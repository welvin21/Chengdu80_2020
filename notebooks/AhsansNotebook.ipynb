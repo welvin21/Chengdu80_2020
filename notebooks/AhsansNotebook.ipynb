{
 "cells": [
  {
   "cell_type": "code",
   "execution_count": 3,
   "metadata": {},
   "outputs": [],
   "source": [
    "import pandas as pd"
   ]
  },
  {
   "cell_type": "code",
   "execution_count": 4,
   "metadata": {},
   "outputs": [
    {
     "name": "stdout",
     "output_type": "stream",
     "text": [
      "              date TICKER                COMNAM    BIDLO  ASKHI  OPENPRC  \\\n",
      "0       2012/01/03   ORCL           ORACLE CORP  25.8300  26.66    26.33   \n",
      "1       2012/01/04   ORCL           ORACLE CORP  25.5500  26.23    25.95   \n",
      "2       2012/01/05   ORCL           ORACLE CORP  25.9100  26.90    26.01   \n",
      "3       2012/01/06   ORCL           ORACLE CORP  26.3600  27.15    26.67   \n",
      "4       2012/01/09   ORCL           ORACLE CORP  26.6600  27.12    26.90   \n",
      "...            ...    ...                   ...      ...    ...      ...   \n",
      "105010  2012/12/24   CBOE  C B O E HOLDINGS INC  29.7150  30.16    30.12   \n",
      "105011  2012/12/26   CBOE  C B O E HOLDINGS INC  29.1400  29.77    29.77   \n",
      "105012  2012/12/27   CBOE  C B O E HOLDINGS INC  29.1600  29.64    29.64   \n",
      "105013  2012/12/28   CBOE  C B O E HOLDINGS INC  29.1101  29.53    29.27   \n",
      "105014  2012/12/31   CBOE  C B O E HOLDINGS INC  29.2900  29.49    29.40   \n",
      "\n",
      "           PRC         VOL     SHROUT  \n",
      "0       25.865  38081439.0  5025837.0  \n",
      "1       26.010  45599113.0  5025837.0  \n",
      "2       26.590  51020071.0  5025837.0  \n",
      "3       26.930  55830810.0  5025837.0  \n",
      "4       27.030  38596800.0  5025837.0  \n",
      "...        ...         ...        ...  \n",
      "105010  29.880    285966.0    87272.0  \n",
      "105011  29.580    557886.0    87272.0  \n",
      "105012  29.330    563717.0    87272.0  \n",
      "105013  29.370   1055427.0    87272.0  \n",
      "105014  29.460    629089.0    87272.0  \n",
      "\n",
      "[105015 rows x 9 columns]\n"
     ]
    }
   ],
   "source": [
    "transaction_data = pd.read_csv('../datasets/transaction_data.tsv', sep='\\t')\n",
    "print(transaction_data)"
   ]
  },
  {
   "cell_type": "code",
   "execution_count": 5,
   "metadata": {},
   "outputs": [
    {
     "name": "stdout",
     "output_type": "stream",
     "text": [
      "418\n"
     ]
    }
   ],
   "source": [
    "tickers = transaction_data['TICKER'].unique()\n",
    "print(len(tickers))"
   ]
  },
  {
   "cell_type": "code",
   "execution_count": 10,
   "metadata": {
    "scrolled": true
   },
   "outputs": [],
   "source": [
    "transaction_data = transaction_data.drop_duplicates(['date', 'TICKER'], keep='last')\n",
    "tickers = transaction_data['TICKER'].unique()\n",
    "transaction_data.to_csv(\"../datasets/transaction_data_cleaned.csv\", index=True, header=True)"
   ]
  },
  {
   "cell_type": "code",
   "execution_count": 13,
   "metadata": {},
   "outputs": [],
   "source": [
    "last_date_rows = transaction_data[transaction_data.values == \"2012/12/31\"]\n",
    "last_date_stock_prices = {}\n",
    "for index, row in last_date_rows.iterrows():\n",
    "    last_date_stock_prices[row['TICKER']] = [row['PRC'], row['COMNAM'], row['OPENPRC']]\n",
    "\n",
    "val = last_date_stock_prices.values()\n",
    "PRC = [v[0] for v in val]\n",
    "COMNAM = [v[1] for v in val]\n",
    "OPENPRC = [v[2] for v in val] \n",
    "df = pd.DataFrame({'TICKER': list(last_date_stock_prices.keys()), 'PRC': PRC, 'OPENPRC': OPENPRC, 'COMNAM': COMNAM}, columns=['TICKER', 'PRC', 'OPENPRC', 'COMNAM'])\n",
    "df.to_csv('../database/last_date_price.csv', index=False, header=True)"
   ]
  },
  {
   "cell_type": "code",
   "execution_count": 14,
   "metadata": {},
   "outputs": [
    {
     "data": {
      "text/html": [
       "<div>\n",
       "<style scoped>\n",
       "    .dataframe tbody tr th:only-of-type {\n",
       "        vertical-align: middle;\n",
       "    }\n",
       "\n",
       "    .dataframe tbody tr th {\n",
       "        vertical-align: top;\n",
       "    }\n",
       "\n",
       "    .dataframe thead th {\n",
       "        text-align: right;\n",
       "    }\n",
       "</style>\n",
       "<table border=\"1\" class=\"dataframe\">\n",
       "  <thead>\n",
       "    <tr style=\"text-align: right;\">\n",
       "      <th></th>\n",
       "      <th>TICKER</th>\n",
       "      <th>PRC</th>\n",
       "      <th>OPENPRC</th>\n",
       "      <th>COMNAM</th>\n",
       "    </tr>\n",
       "  </thead>\n",
       "  <tbody>\n",
       "    <tr>\n",
       "      <th>0</th>\n",
       "      <td>ORCL</td>\n",
       "      <td>33.3200</td>\n",
       "      <td>32.91</td>\n",
       "      <td>ORACLE CORP</td>\n",
       "    </tr>\n",
       "    <tr>\n",
       "      <th>1</th>\n",
       "      <td>MSFT</td>\n",
       "      <td>26.7097</td>\n",
       "      <td>26.59</td>\n",
       "      <td>MICROSOFT CORP</td>\n",
       "    </tr>\n",
       "    <tr>\n",
       "      <th>2</th>\n",
       "      <td>TROW</td>\n",
       "      <td>65.1171</td>\n",
       "      <td>63.98</td>\n",
       "      <td>T ROWE PRICE GROUP INC</td>\n",
       "    </tr>\n",
       "    <tr>\n",
       "      <th>3</th>\n",
       "      <td>HON</td>\n",
       "      <td>63.4700</td>\n",
       "      <td>62.72</td>\n",
       "      <td>HONEYWELL INTERNATIONAL INC</td>\n",
       "    </tr>\n",
       "    <tr>\n",
       "      <th>4</th>\n",
       "      <td>ADM</td>\n",
       "      <td>27.3900</td>\n",
       "      <td>27.00</td>\n",
       "      <td>ARCHER DANIELS MIDLAND CO</td>\n",
       "    </tr>\n",
       "    <tr>\n",
       "      <th>...</th>\n",
       "      <td>...</td>\n",
       "      <td>...</td>\n",
       "      <td>...</td>\n",
       "      <td>...</td>\n",
       "    </tr>\n",
       "    <tr>\n",
       "      <th>410</th>\n",
       "      <td>SNI</td>\n",
       "      <td>57.9200</td>\n",
       "      <td>56.42</td>\n",
       "      <td>SCRIPPS NETWORKS INTERACTIVE INC</td>\n",
       "    </tr>\n",
       "    <tr>\n",
       "      <th>411</th>\n",
       "      <td>DISCK</td>\n",
       "      <td>58.5000</td>\n",
       "      <td>57.12</td>\n",
       "      <td>DISCOVERY COMMUNICATIONS INC</td>\n",
       "    </tr>\n",
       "    <tr>\n",
       "      <th>412</th>\n",
       "      <td>VRSK</td>\n",
       "      <td>50.9700</td>\n",
       "      <td>50.15</td>\n",
       "      <td>VERISK ANALYTICS INC</td>\n",
       "    </tr>\n",
       "    <tr>\n",
       "      <th>413</th>\n",
       "      <td>DG</td>\n",
       "      <td>44.0900</td>\n",
       "      <td>42.60</td>\n",
       "      <td>DOLLAR GENERAL CORP NEW</td>\n",
       "    </tr>\n",
       "    <tr>\n",
       "      <th>414</th>\n",
       "      <td>CBOE</td>\n",
       "      <td>29.4600</td>\n",
       "      <td>29.40</td>\n",
       "      <td>C B O E HOLDINGS INC</td>\n",
       "    </tr>\n",
       "  </tbody>\n",
       "</table>\n",
       "<p>415 rows × 4 columns</p>\n",
       "</div>"
      ],
      "text/plain": [
       "    TICKER      PRC  OPENPRC                            COMNAM\n",
       "0     ORCL  33.3200    32.91                       ORACLE CORP\n",
       "1     MSFT  26.7097    26.59                    MICROSOFT CORP\n",
       "2     TROW  65.1171    63.98            T ROWE PRICE GROUP INC\n",
       "3      HON  63.4700    62.72       HONEYWELL INTERNATIONAL INC\n",
       "4      ADM  27.3900    27.00         ARCHER DANIELS MIDLAND CO\n",
       "..     ...      ...      ...                               ...\n",
       "410    SNI  57.9200    56.42  SCRIPPS NETWORKS INTERACTIVE INC\n",
       "411  DISCK  58.5000    57.12      DISCOVERY COMMUNICATIONS INC\n",
       "412   VRSK  50.9700    50.15              VERISK ANALYTICS INC\n",
       "413     DG  44.0900    42.60           DOLLAR GENERAL CORP NEW\n",
       "414   CBOE  29.4600    29.40              C B O E HOLDINGS INC\n",
       "\n",
       "[415 rows x 4 columns]"
      ]
     },
     "execution_count": 14,
     "metadata": {},
     "output_type": "execute_result"
    }
   ],
   "source": [
    "df = pd.read_csv('../database/last_date_price.csv')\n",
    "df"
   ]
  },
  {
   "cell_type": "code",
   "execution_count": null,
   "metadata": {},
   "outputs": [],
   "source": []
  }
 ],
 "metadata": {
  "kernelspec": {
   "display_name": "Python 3",
   "language": "python",
   "name": "python3"
  },
  "language_info": {
   "codemirror_mode": {
    "name": "ipython",
    "version": 3
   },
   "file_extension": ".py",
   "mimetype": "text/x-python",
   "name": "python",
   "nbconvert_exporter": "python",
   "pygments_lexer": "ipython3",
   "version": "3.8.3"
  }
 },
 "nbformat": 4,
 "nbformat_minor": 4
}
